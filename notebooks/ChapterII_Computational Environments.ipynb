{
 "cells": [
  {
   "cell_type": "markdown",
   "id": "1c3a59f7-c27b-4060-9ffe-b2ed988edf4c",
   "metadata": {
    "slideshow": {
     "slide_type": "slide"
    },
    "tags": []
   },
   "source": [
    "# Computational Environments\n",
    "## Reproducible Science\n",
    "<ul><li><b>Transparent</b> (computational) processes. Helps to understand the <b>nuts and bolts</b> of a technique.</li>\n",
    "<li>Enough detail to <b>Reproduce</b> the entire analysis.</li>\n",
    "<li>Efficient model of <b>Reusability</b></li>\n",
    "</ul>\n",
    "\n"
   ]
  },
  {
   "cell_type": "markdown",
   "id": "8e9d3359-7aaf-49c2-97d0-d8600b6288a3",
   "metadata": {
    "slideshow": {
     "slide_type": "subslide"
    },
    "tags": []
   },
   "source": [
    "<img src='../images/ReproducibleScience.png'>"
   ]
  },
  {
   "cell_type": "markdown",
   "id": "f8d5898a-22b2-4841-a872-0058fe3ab18f",
   "metadata": {
    "slideshow": {
     "slide_type": "slide"
    },
    "tags": []
   },
   "source": [
    "## Building Blocks\n",
    "<ul><li>Computational Notebooks</li>\n",
    "<li>Open-Source Packages</li>   \n",
    "<li>Open Platforms</li>   \n",
    "</ul>"
   ]
  },
  {
   "cell_type": "markdown",
   "id": "8dad24c3-c02d-49f9-9b5f-6a01304958da",
   "metadata": {
    "slideshow": {
     "slide_type": "slide"
    },
    "tags": []
   },
   "source": [
    "### Computational Notebooks\n",
    "<ul><li>Writing a prose document that allows the author to <b>embed </b>code which can be easily executed with the results also incorporated into the document. </li>\n",
    "<li>Well-suited for <b>data science work</b></li>\n",
    "<li>Computational notebooks are useful when <b>exploring a problem</b>, such as trying various forms of analysis on a dataset. </li>\n",
    "<li>The document acts as a <b>record</b> of what's been tried.</li>\n",
    "<li>Coupling of code and results is a form of <u><i>IllustrativeProgramming</i></u>, making the environment <b>appealing</b> to lay programmers.</li>\n",
    "<li>Notebooks are also useful for <b>preparing reports</b>, usually by generating a document in PDF, HTML, or other formats.</li>\n",
    "<li>It's best to think of notebooks as a way of <b>exploring logic</b></li>\n",
    "</ul>\n",
    "\n",
    "\n",
    "\n"
   ]
  },
  {
   "cell_type": "markdown",
   "id": "f2ab2a0c-8dbd-4e7f-9c5d-d681d047d2d8",
   "metadata": {
    "slideshow": {
     "slide_type": "subslide"
    },
    "tags": []
   },
   "source": [
    "![Notebook](../images/notebooks.png)"
   ]
  },
  {
   "cell_type": "markdown",
   "id": "be7ff2ee-618a-4a4d-a869-c043170a07dc",
   "metadata": {
    "slideshow": {
     "slide_type": "slide"
    },
    "tags": []
   },
   "source": [
    "### Open-Source Packages\n",
    "<ul><li>Developing <b>Reusable</b> functionalities as packages</li>\n",
    "    <li>No need to <b>re-invent the wheel!!</b></li>\n",
    "    <li><b>Open Source!!!!!!!! (What I love)</b></li>\n",
    "</ul>\n",
    "\n"
   ]
  },
  {
   "cell_type": "markdown",
   "id": "3b045ec0-3cd4-4bd0-9975-50612fb152dc",
   "metadata": {
    "slideshow": {
     "slide_type": "subslide"
    },
    "tags": []
   },
   "source": [
    "![Package](../images/package.png)\n",
    "\n"
   ]
  },
  {
   "cell_type": "markdown",
   "id": "3596c23d-af90-4253-a987-af09e80c4257",
   "metadata": {
    "slideshow": {
     "slide_type": "slide"
    },
    "tags": []
   },
   "source": [
    "Let's see that in <b>real-time</b>!!!!!!!!!! The real power of Notebooks"
   ]
  },
  {
   "cell_type": "code",
   "execution_count": 5,
   "id": "6233d9b2-f14b-4065-888b-b9e2abe68724",
   "metadata": {
    "slideshow": {
     "slide_type": "subslide"
    },
    "tags": []
   },
   "outputs": [
    {
     "data": {
      "text/plain": [
       "[2.0, 3.0, 4.0, 5.0]"
      ]
     },
     "execution_count": 5,
     "metadata": {},
     "output_type": "execute_result"
    }
   ],
   "source": [
    "import math\n",
    "data=[4,9,16,25]\n",
    "out=[]\n",
    "for d in data:\n",
    "    out.append(math.sqrt(d))\n",
    "out"
   ]
  },
  {
   "cell_type": "code",
   "execution_count": 6,
   "id": "143e2531-a578-4652-921e-6f476d4944c4",
   "metadata": {
    "slideshow": {
     "slide_type": "subslide"
    },
    "tags": []
   },
   "outputs": [
    {
     "data": {
      "text/plain": [
       "array([2., 3., 4., 5.])"
      ]
     },
     "execution_count": 6,
     "metadata": {},
     "output_type": "execute_result"
    }
   ],
   "source": [
    " import numpy as np\n",
    "data=[4,9,16,25]\n",
    "np.sqrt(data)"
   ]
  },
  {
   "cell_type": "markdown",
   "id": "f4820b12-1187-4e49-8a5b-01130f00c83d",
   "metadata": {
    "slideshow": {
     "slide_type": "slide"
    },
    "tags": []
   },
   "source": [
    "### Open platform\n",
    "<ul><li>Can run virtually on any platform</li>\n",
    "    <li>Could be installed on a desktop or deployed on cloud (eg Google Colab)</li>\n",
    "</ul>\n",
    "\n"
   ]
  },
  {
   "cell_type": "markdown",
   "id": "72b1f879-9c72-4fc5-a7ff-458e1aff97c4",
   "metadata": {
    "slideshow": {
     "slide_type": "subslide"
    },
    "tags": []
   },
   "source": [
    "![Package](../images/anyplatform.png)"
   ]
  },
  {
   "cell_type": "code",
   "execution_count": null,
   "id": "0d85c2f3-9d38-4fe3-88bc-a674d6065621",
   "metadata": {},
   "outputs": [],
   "source": []
  }
 ],
 "metadata": {
  "kernelspec": {
   "display_name": "Py39",
   "language": "python",
   "name": "py39"
  },
  "language_info": {
   "codemirror_mode": {
    "name": "ipython",
    "version": 3
   },
   "file_extension": ".py",
   "mimetype": "text/x-python",
   "name": "python",
   "nbconvert_exporter": "python",
   "pygments_lexer": "ipython3",
   "version": "3.9.6"
  }
 },
 "nbformat": 4,
 "nbformat_minor": 5
}
