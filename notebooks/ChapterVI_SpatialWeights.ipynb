{
 "cells": [
  {
   "cell_type": "markdown",
   "id": "5b3d291f-8be4-4bb5-bc4d-f42677ab1f0f",
   "metadata": {},
   "source": [
    "# Spatial Weights"
   ]
  },
  {
   "cell_type": "markdown",
   "id": "e97019b3-7c2a-4cb3-82cc-ae5c504cc940",
   "metadata": {
    "slideshow": {
     "slide_type": "slide"
    },
    "tags": []
   },
   "source": [
    "In this session we will learn about spatial weight matrices. Spatial weight matrices are structured set of numbers that formalize Geographical Relationships between observations in a dataset.\n",
    "\n",
    "$$W=\\begin{bmatrix} 0 & w_{12} & \\dots & w_{1N}\\\\ w_{21} & \\ddots & w_{ij} & \\vdots \\\\ \\vdots & w_{ji} & 0 & \\vdots \\\\ w_{1N} & \\dots & \\dots & 0 \\end{bmatrix}$$\n",
    "\n",
    "Each cell *w*<sub><i>ij</i> </sub> represents the degree of interaction between the observations *i* and *j*. By convention we set the diagonal elements of *W* as zero. We define *j* as a *neighbor* of *i* if *i* has some degree of *connection* with *j*. In terms of the Weight Matrix *W* *j* is a *neighbor* of *i* if *w*<sub><i>ij</i> </sub>>0. And from the defintion for *neighbor* we could define *neighborhood* of *i* as the set of observations in the system with which it has certain connection, or those observations with a weight greater than zero.\n",
    "\n",
    "There are many ways of creating Weight Matrix *W* which we will explore now. We will mainly use the libraries <span style=\"background-color:#C5C5C5\">*Geopandas*</span> and <span style=\"background-color:#C5C5C5\">*PySAL*</span> for this workshop"
   ]
  },
  {
   "cell_type": "code",
   "execution_count": 16,
   "id": "c4669d71-b8df-4d84-93b6-98d92d62f26d",
   "metadata": {
    "slideshow": {
     "slide_type": "skip"
    },
    "tags": []
   },
   "outputs": [],
   "source": [
    "%matplotlib inline\n",
    "\n",
    "import seaborn as sns\n",
    "import pandas as pd\n",
    "from pysal.lib import weights\n",
    "import geopandas as gpd\n",
    "import numpy as np\n",
    "import matplotlib.pyplot as plt"
   ]
  },
  {
   "cell_type": "markdown",
   "id": "2d69f3c8-acfd-46f2-8134-fe81a4edd30e",
   "metadata": {
    "slideshow": {
     "slide_type": "skip"
    },
    "tags": []
   },
   "source": [
    "## Data\n",
    "We will be using the Ohio Counties Data for this session."
   ]
  },
  {
   "cell_type": "code",
   "execution_count": 17,
   "id": "d4927ef4-0bd0-4865-9fda-17d817d60a7e",
   "metadata": {
    "slideshow": {
     "slide_type": "skip"
    },
    "tags": []
   },
   "outputs": [],
   "source": [
    "#load the Ohio Counties data to geopandas dataframe\n",
    "oh_counties=gpd.read_file(r'../class_data/Ohio_counties/ODOT_County_Boundaries.shp')\n",
    "#set the index as FIPS_COUNT as it is the unique id for a county"
   ]
  },
  {
   "cell_type": "code",
   "execution_count": 18,
   "id": "7e128858-b163-4430-8106-1003db210b0a",
   "metadata": {
    "slideshow": {
     "slide_type": "skip"
    },
    "tags": []
   },
   "outputs": [
    {
     "data": {
      "text/plain": [
       "Index(['OBJECTID', 'COUNTY_CD', 'COUNTY_SEA', 'ODOT_DISTR', 'FIPS_COUNT',\n",
       "       'POP_2010', 'POP_2000', 'POP_1990', 'STATE_PLAN', 'ELEVATION_',\n",
       "       'ELEVATION1', 'LAT_NORTH_', 'LAT_SOUTH_', 'LONG_EAST_', 'LONG_WEST_',\n",
       "       'AREA_SQMI', 'AREA_ID', 'created_us', 'created_da', 'last_edite',\n",
       "       'last_edi_1', 'SHAPE_STAr', 'SHAPE_STLe', 'geometry'],\n",
       "      dtype='object')"
      ]
     },
     "execution_count": 18,
     "metadata": {},
     "output_type": "execute_result"
    }
   ],
   "source": [
    "#let's see what columns are there in this dataset\n",
    "oh_counties.columns"
   ]
  },
  {
   "cell_type": "code",
   "execution_count": 19,
   "id": "bafe0c58-81a2-4f1c-b15c-cf7469013241",
   "metadata": {
    "slideshow": {
     "slide_type": "skip"
    },
    "tags": []
   },
   "outputs": [
    {
     "data": {
      "text/html": [
       "<div>\n",
       "<style scoped>\n",
       "    .dataframe tbody tr th:only-of-type {\n",
       "        vertical-align: middle;\n",
       "    }\n",
       "\n",
       "    .dataframe tbody tr th {\n",
       "        vertical-align: top;\n",
       "    }\n",
       "\n",
       "    .dataframe thead th {\n",
       "        text-align: right;\n",
       "    }\n",
       "</style>\n",
       "<table border=\"1\" class=\"dataframe\">\n",
       "  <thead>\n",
       "    <tr style=\"text-align: right;\">\n",
       "      <th></th>\n",
       "      <th>COUNTY_CD</th>\n",
       "      <th>COUNTY_SEA</th>\n",
       "      <th>POP_2010</th>\n",
       "      <th>geometry</th>\n",
       "    </tr>\n",
       "  </thead>\n",
       "  <tbody>\n",
       "    <tr>\n",
       "      <th>0</th>\n",
       "      <td>HIG</td>\n",
       "      <td>HILLSBORO</td>\n",
       "      <td>43589</td>\n",
       "      <td>POLYGON ((-83.78330 39.26382, -83.78312 39.263...</td>\n",
       "    </tr>\n",
       "    <tr>\n",
       "      <th>1</th>\n",
       "      <td>HOC</td>\n",
       "      <td>LOGAN</td>\n",
       "      <td>29380</td>\n",
       "      <td>POLYGON ((-82.49595 39.60265, -82.49505 39.612...</td>\n",
       "    </tr>\n",
       "    <tr>\n",
       "      <th>2</th>\n",
       "      <td>HOL</td>\n",
       "      <td>MILLERSBURG</td>\n",
       "      <td>42366</td>\n",
       "      <td>POLYGON ((-81.87727 40.66713, -81.87564 40.667...</td>\n",
       "    </tr>\n",
       "    <tr>\n",
       "      <th>3</th>\n",
       "      <td>HUR</td>\n",
       "      <td>NORWALK</td>\n",
       "      <td>59626</td>\n",
       "      <td>POLYGON ((-82.83547 41.14407, -82.83549 41.145...</td>\n",
       "    </tr>\n",
       "    <tr>\n",
       "      <th>4</th>\n",
       "      <td>FRA</td>\n",
       "      <td>COLUMBUS</td>\n",
       "      <td>1163414</td>\n",
       "      <td>POLYGON ((-83.24596 39.96574, -83.24595 39.965...</td>\n",
       "    </tr>\n",
       "    <tr>\n",
       "      <th>...</th>\n",
       "      <td>...</td>\n",
       "      <td>...</td>\n",
       "      <td>...</td>\n",
       "      <td>...</td>\n",
       "    </tr>\n",
       "    <tr>\n",
       "      <th>83</th>\n",
       "      <td>VIN</td>\n",
       "      <td>MCARTHUR</td>\n",
       "      <td>13435</td>\n",
       "      <td>POLYGON ((-82.51710 39.36942, -82.51595 39.379...</td>\n",
       "    </tr>\n",
       "    <tr>\n",
       "      <th>84</th>\n",
       "      <td>WAR</td>\n",
       "      <td>LEBANON</td>\n",
       "      <td>212693</td>\n",
       "      <td>POLYGON ((-83.98859 39.44441, -83.98941 39.435...</td>\n",
       "    </tr>\n",
       "    <tr>\n",
       "      <th>85</th>\n",
       "      <td>HAS</td>\n",
       "      <td>CADIZ</td>\n",
       "      <td>15864</td>\n",
       "      <td>POLYGON ((-81.27273 40.36923, -81.27271 40.369...</td>\n",
       "    </tr>\n",
       "    <tr>\n",
       "      <th>86</th>\n",
       "      <td>PIC</td>\n",
       "      <td>CIRCLEVILLE</td>\n",
       "      <td>55698</td>\n",
       "      <td>POLYGON ((-82.84304 39.56150, -82.84164 39.561...</td>\n",
       "    </tr>\n",
       "    <tr>\n",
       "      <th>87</th>\n",
       "      <td>SAN</td>\n",
       "      <td>FREMONT</td>\n",
       "      <td>60944</td>\n",
       "      <td>POLYGON ((-83.41595 41.40644, -83.41594 41.407...</td>\n",
       "    </tr>\n",
       "  </tbody>\n",
       "</table>\n",
       "<p>88 rows × 4 columns</p>\n",
       "</div>"
      ],
      "text/plain": [
       "   COUNTY_CD   COUNTY_SEA  POP_2010  \\\n",
       "0        HIG    HILLSBORO     43589   \n",
       "1        HOC        LOGAN     29380   \n",
       "2        HOL  MILLERSBURG     42366   \n",
       "3        HUR      NORWALK     59626   \n",
       "4        FRA     COLUMBUS   1163414   \n",
       "..       ...          ...       ...   \n",
       "83       VIN     MCARTHUR     13435   \n",
       "84       WAR      LEBANON    212693   \n",
       "85       HAS        CADIZ     15864   \n",
       "86       PIC  CIRCLEVILLE     55698   \n",
       "87       SAN      FREMONT     60944   \n",
       "\n",
       "                                             geometry  \n",
       "0   POLYGON ((-83.78330 39.26382, -83.78312 39.263...  \n",
       "1   POLYGON ((-82.49595 39.60265, -82.49505 39.612...  \n",
       "2   POLYGON ((-81.87727 40.66713, -81.87564 40.667...  \n",
       "3   POLYGON ((-82.83547 41.14407, -82.83549 41.145...  \n",
       "4   POLYGON ((-83.24596 39.96574, -83.24595 39.965...  \n",
       "..                                                ...  \n",
       "83  POLYGON ((-82.51710 39.36942, -82.51595 39.379...  \n",
       "84  POLYGON ((-83.98859 39.44441, -83.98941 39.435...  \n",
       "85  POLYGON ((-81.27273 40.36923, -81.27271 40.369...  \n",
       "86  POLYGON ((-82.84304 39.56150, -82.84164 39.561...  \n",
       "87  POLYGON ((-83.41595 41.40644, -83.41594 41.407...  \n",
       "\n",
       "[88 rows x 4 columns]"
      ]
     },
     "execution_count": 19,
     "metadata": {},
     "output_type": "execute_result"
    }
   ],
   "source": [
    "#lets see the values in some columns\n",
    "oh_counties[['COUNTY_CD','COUNTY_SEA','POP_2010','geometry']]"
   ]
  },
  {
   "cell_type": "code",
   "execution_count": 20,
   "id": "ee424e3d-ac0e-4fbb-b685-46780e37bb7d",
   "metadata": {
    "slideshow": {
     "slide_type": "skip"
    },
    "tags": []
   },
   "outputs": [
    {
     "data": {
      "text/html": [
       "<div>\n",
       "<style scoped>\n",
       "    .dataframe tbody tr th:only-of-type {\n",
       "        vertical-align: middle;\n",
       "    }\n",
       "\n",
       "    .dataframe tbody tr th {\n",
       "        vertical-align: top;\n",
       "    }\n",
       "\n",
       "    .dataframe thead th {\n",
       "        text-align: right;\n",
       "    }\n",
       "</style>\n",
       "<table border=\"1\" class=\"dataframe\">\n",
       "  <thead>\n",
       "    <tr style=\"text-align: right;\">\n",
       "      <th></th>\n",
       "      <th>COUNTY_CD</th>\n",
       "      <th>COUNTY_SEA</th>\n",
       "      <th>POP_2010</th>\n",
       "      <th>geometry</th>\n",
       "    </tr>\n",
       "  </thead>\n",
       "  <tbody>\n",
       "    <tr>\n",
       "      <th>0</th>\n",
       "      <td>HIG</td>\n",
       "      <td>HILLSBORO</td>\n",
       "      <td>43589</td>\n",
       "      <td>POLYGON ((-83.78330 39.26382, -83.78312 39.263...</td>\n",
       "    </tr>\n",
       "    <tr>\n",
       "      <th>1</th>\n",
       "      <td>HOC</td>\n",
       "      <td>LOGAN</td>\n",
       "      <td>29380</td>\n",
       "      <td>POLYGON ((-82.49595 39.60265, -82.49505 39.612...</td>\n",
       "    </tr>\n",
       "    <tr>\n",
       "      <th>2</th>\n",
       "      <td>HOL</td>\n",
       "      <td>MILLERSBURG</td>\n",
       "      <td>42366</td>\n",
       "      <td>POLYGON ((-81.87727 40.66713, -81.87564 40.667...</td>\n",
       "    </tr>\n",
       "    <tr>\n",
       "      <th>3</th>\n",
       "      <td>HUR</td>\n",
       "      <td>NORWALK</td>\n",
       "      <td>59626</td>\n",
       "      <td>POLYGON ((-82.83547 41.14407, -82.83549 41.145...</td>\n",
       "    </tr>\n",
       "    <tr>\n",
       "      <th>4</th>\n",
       "      <td>FRA</td>\n",
       "      <td>COLUMBUS</td>\n",
       "      <td>1163414</td>\n",
       "      <td>POLYGON ((-83.24596 39.96574, -83.24595 39.965...</td>\n",
       "    </tr>\n",
       "  </tbody>\n",
       "</table>\n",
       "</div>"
      ],
      "text/plain": [
       "  COUNTY_CD   COUNTY_SEA  POP_2010  \\\n",
       "0       HIG    HILLSBORO     43589   \n",
       "1       HOC        LOGAN     29380   \n",
       "2       HOL  MILLERSBURG     42366   \n",
       "3       HUR      NORWALK     59626   \n",
       "4       FRA     COLUMBUS   1163414   \n",
       "\n",
       "                                            geometry  \n",
       "0  POLYGON ((-83.78330 39.26382, -83.78312 39.263...  \n",
       "1  POLYGON ((-82.49595 39.60265, -82.49505 39.612...  \n",
       "2  POLYGON ((-81.87727 40.66713, -81.87564 40.667...  \n",
       "3  POLYGON ((-82.83547 41.14407, -82.83549 41.145...  \n",
       "4  POLYGON ((-83.24596 39.96574, -83.24595 39.965...  "
      ]
     },
     "execution_count": 20,
     "metadata": {},
     "output_type": "execute_result"
    }
   ],
   "source": [
    "#lets see the first five values for the above 3 columns\n",
    "oh_counties[['COUNTY_CD','COUNTY_SEA','POP_2010','geometry']].head()"
   ]
  },
  {
   "cell_type": "code",
   "execution_count": 21,
   "id": "a25eee78-3524-43c4-8bb2-419b307f78fe",
   "metadata": {
    "slideshow": {
     "slide_type": "skip"
    },
    "tags": []
   },
   "outputs": [
    {
     "data": {
      "text/plain": [
       "<Geographic 2D CRS: EPSG:4326>\n",
       "Name: WGS 84\n",
       "Axis Info [ellipsoidal]:\n",
       "- Lat[north]: Geodetic latitude (degree)\n",
       "- Lon[east]: Geodetic longitude (degree)\n",
       "Area of Use:\n",
       "- name: World.\n",
       "- bounds: (-180.0, -90.0, 180.0, 90.0)\n",
       "Datum: World Geodetic System 1984 ensemble\n",
       "- Ellipsoid: WGS 84\n",
       "- Prime Meridian: Greenwich"
      ]
     },
     "execution_count": 21,
     "metadata": {},
     "output_type": "execute_result"
    }
   ],
   "source": [
    "#lets see what is the projection for this dataset\n",
    "oh_counties.crs"
   ]
  },
  {
   "cell_type": "code",
   "execution_count": 22,
   "id": "97c12aa2-5ca8-49c3-b15c-bb7db6e26eed",
   "metadata": {
    "slideshow": {
     "slide_type": "skip"
    },
    "tags": []
   },
   "outputs": [],
   "source": [
    "'''The dataset seems to be unprojected (Geographic coordinates).\n",
    "Lets project it to UTM 17N (EPSG:26917) (Actually OHIO has a portion of UTM 16 and UTM 17. \n",
    "For convenince we are just using UTM 17N)'''\n",
    "oh_counties_proj=oh_counties.to_crs('EPSG:26917')"
   ]
  },
  {
   "cell_type": "code",
   "execution_count": 23,
   "id": "de722b82-adcc-45b1-b1b0-213fa23b8336",
   "metadata": {
    "slideshow": {
     "slide_type": "skip"
    },
    "tags": []
   },
   "outputs": [
    {
     "name": "stdout",
     "output_type": "stream",
     "text": [
      "0    POLYGON ((-83.78330 39.26382, -83.78312 39.263...\n",
      "1    POLYGON ((-82.49595 39.60265, -82.49505 39.612...\n",
      "2    POLYGON ((-81.87727 40.66713, -81.87564 40.667...\n",
      "3    POLYGON ((-82.83547 41.14407, -82.83549 41.145...\n",
      "4    POLYGON ((-83.24596 39.96574, -83.24595 39.965...\n",
      "Name: geometry, dtype: geometry\n",
      "-------------------------------\n",
      "0    POLYGON ((259868.086 4349746.506, 259883.508 4...\n",
      "1    POLYGON ((371566.374 4384725.994, 371662.147 4...\n",
      "2    POLYGON ((425850.094 4502175.870, 425987.560 4...\n",
      "3    POLYGON ((345967.492 4556373.871, 345967.376 4...\n",
      "4    POLYGON ((308181.220 4426369.903, 308181.822 4...\n",
      "Name: geometry, dtype: geometry\n"
     ]
    }
   ],
   "source": [
    "#notice the change in geometry for the unprojected and projected dataset\n",
    "print (oh_counties.geometry.head())\n",
    "print ('-------------------------------')\n",
    "print (oh_counties_proj.geometry.head())"
   ]
  },
  {
   "cell_type": "markdown",
   "id": "f64357b9-fda2-4198-81dc-fc31f8761c4e",
   "metadata": {
    "slideshow": {
     "slide_type": "slide"
    },
    "tags": []
   },
   "source": [
    "## Creating Weights\n",
    "### Contiguos Neighbors\n",
    "#### Rook Contiguity\n",
    "Refers to neighbors sharing a common edge<br><br>\n",
    "<img src=\"../images/Rook.png\" width=400 height=400 />"
   ]
  },
  {
   "cell_type": "code",
   "execution_count": 24,
   "id": "e4812385-e7a0-454c-bfa3-15b34eac8778",
   "metadata": {
    "slideshow": {
     "slide_type": "subslide"
    },
    "tags": []
   },
   "outputs": [
    {
     "name": "stderr",
     "output_type": "stream",
     "text": [
      "/opt/conda/envs/py39/lib/python3.9/site-packages/libpysal/weights/weights.py:172: UserWarning: The weights matrix is not fully connected: \n",
      " There are 2 disconnected components.\n",
      " There is 1 island with id: 39171.\n",
      "  warnings.warn(message)\n"
     ]
    },
    {
     "data": {
      "image/png": "[encoded data removed]",
      "text/plain": [
       "<Figure size 432x432 with 1 Axes>"
      ]
     },
     "metadata": {
      "needs_background": "light"
     },
     "output_type": "display_data"
    }
   ],
   "source": [
    "w_rook = weights.Rook.from_dataframe(oh_counties_proj,idVariable=\"FIPS_COUNT\")\n",
    "f, ax = plt.subplots(1, figsize=(6, 6))\n",
    "focus = oh_counties_proj.loc[oh_counties_proj.FIPS_COUNT=='39035']\n",
    "focus.plot(facecolor='red', alpha=1, linewidth=0, ax=ax)\n",
    "neis = oh_counties_proj.loc[oh_counties_proj.FIPS_COUNT.isin(w_rook.neighbors['39035'])]\n",
    "neis.plot(ax=ax, facecolor='None', linewidth=1)\n",
    "f.suptitle(\"Rook neighbors of Cuyahoga County\")\n",
    "plt.show()"
   ]
  },
  {
   "cell_type": "markdown",
   "id": "e6bc1f78-bdb5-4e96-a5f7-43695f07eaa3",
   "metadata": {
    "slideshow": {
     "slide_type": "subslide"
    },
    "tags": []
   },
   "source": [
    "#### Queen Contiguity\n",
    "Refers to neighbors sharing a vertex<br><br>\n",
    "<img src=\"../images/Queen.png\" width=400 height=400 />"
   ]
  },
  {
   "cell_type": "code",
   "execution_count": 25,
   "id": "2f8da156-0571-482b-98f6-f351c900f166",
   "metadata": {
    "slideshow": {
     "slide_type": "subslide"
    },
    "tags": []
   },
   "outputs": [
    {
     "name": "stderr",
     "output_type": "stream",
     "text": [
      "/opt/conda/envs/py39/lib/python3.9/site-packages/libpysal/weights/weights.py:172: UserWarning: The weights matrix is not fully connected: \n",
      " There are 2 disconnected components.\n",
      " There is 1 island with id: 39171.\n",
      "  warnings.warn(message)\n"
     ]
    },
    {
     "data": {
      "image/png": "[encoded data removed]",
      "text/plain": [
       "<Figure size 432x432 with 1 Axes>"
      ]
     },
     "metadata": {
      "needs_background": "light"
     },
     "output_type": "display_data"
    }
   ],
   "source": [
    "w_queen = weights.Queen.from_dataframe(oh_counties_proj,idVariable=\"FIPS_COUNT\")\n",
    "f, ax = plt.subplots(1, figsize=(6, 6))\n",
    "focus = oh_counties_proj.loc[oh_counties_proj.FIPS_COUNT=='39035']\n",
    "focus.plot(facecolor='red', alpha=1, linewidth=0, ax=ax)\n",
    "neis = oh_counties_proj.loc[oh_counties_proj.FIPS_COUNT.isin(w_queen.neighbors['39035'])]\n",
    "neis.plot(ax=ax, facecolor='None', linewidth=1)\n",
    "f.suptitle(\"Queen neighbors of Cuyahoga County\")\n",
    "plt.show()"
   ]
  },
  {
   "cell_type": "markdown",
   "id": "ca8b66e4-0cce-4aa1-bf8a-dd0570c1d662",
   "metadata": {
    "slideshow": {
     "slide_type": "subslide"
    },
    "tags": []
   },
   "source": [
    "### Distance\n",
    "Assign weight to each pair of observation based on how far they are from each other\n",
    "#### *k*-Nearest Neighbors\n",
    "In a *k*-nearest neighbor definition, all units among the *k* nearest neighbors of unit *i* are treated as neighbors of *i*, while the remaining units are treated as non-neighbors.\n",
    "An example may be that the typical citizen is able to retain the political argument of only five neighbors, at maximum, and is able to retain the political arguments of only five neighbors, and that these neighbors with whom political discussion takes place are the individuals five most spatially proximate neighbors."
   ]
  },
  {
   "cell_type": "code",
   "execution_count": 27,
   "id": "27b351fe-2f50-477f-9182-2a5446bf16d6",
   "metadata": {
    "slideshow": {
     "slide_type": "subslide"
    },
    "tags": []
   },
   "outputs": [
    {
     "data": {
      "image/png": "[encoded data removed]",
      "text/plain": [
       "<Figure size 432x432 with 1 Axes>"
      ]
     },
     "metadata": {
      "needs_background": "light"
     },
     "output_type": "display_data"
    }
   ],
   "source": [
    "w_knn = weights.KNN.from_dataframe(oh_counties_proj, k=10)\n",
    "f, ax = plt.subplots(1, figsize=(6, 6))\n",
    "focus = oh_counties_proj.iloc[oh_counties_proj[oh_counties_proj.FIPS_COUNT=='39035'].index]\n",
    "focus.plot(facecolor='red', alpha=1, linewidth=0, ax=ax)\n",
    "neis = oh_counties_proj.iloc[w_knn.neighbors[oh_counties_proj[oh_counties_proj.FIPS_COUNT=='39035'].index[0]]]\n",
    "neis.plot(ax=ax, facecolor='None', linewidth=1)\n",
    "f.suptitle(\"Ten k-nearest neighbor of Cuyahoga County\")\n",
    "plt.show()"
   ]
  },
  {
   "cell_type": "markdown",
   "id": "dfed153f-c56b-49fc-9cd8-8bc71a372dc8",
   "metadata": {
    "slideshow": {
     "slide_type": "subslide"
    },
    "tags": []
   },
   "source": [
    "#### Distance band\n",
    "A distance band neighbor defintion will be theoretically supported if the researcher believes that units within a particular distance of unit *i* exhibit *spatial autocorrelation* with unit *i* but that units beyong this critical distance are spatially independent from unit *i*"
   ]
  },
  {
   "cell_type": "code",
   "execution_count": 28,
   "id": "e7f0cbc2-1447-4cfe-a767-9b5c783155de",
   "metadata": {
    "slideshow": {
     "slide_type": "subslide"
    },
    "tags": []
   },
   "outputs": [
    {
     "data": {
      "image/png": "[encoded data removed]",
      "text/plain": [
       "<Figure size 432x432 with 1 Axes>"
      ]
     },
     "metadata": {
      "needs_background": "light"
     },
     "output_type": "display_data"
    }
   ],
   "source": [
    "w_dist50kmB = weights.DistanceBand.from_dataframe(oh_counties_proj, 100000)\n",
    "f, ax = plt.subplots(1, figsize=(6, 6))\n",
    "focus = oh_counties_proj.iloc[oh_counties_proj[oh_counties_proj.FIPS_COUNT=='39035'].index]\n",
    "focus.plot(facecolor='red', alpha=1, linewidth=0, ax=ax)\n",
    "neis = oh_counties_proj.iloc[w_dist50kmB.neighbors[oh_counties_proj[oh_counties_proj.FIPS_COUNT=='39035'].index[0]]]\n",
    "neis.plot(ax=ax, facecolor='None', linewidth=1)\n",
    "f.suptitle(\"100KM Nearest Neighbor for Cuyahoga County\")\n",
    "plt.show()"
   ]
  },
  {
   "cell_type": "markdown",
   "id": "497678a8-6825-4c7d-b20e-118c6c5ea5a5",
   "metadata": {
    "slideshow": {
     "slide_type": "subslide"
    },
    "tags": []
   },
   "source": [
    "#### Distance-Decay\n",
    "The distance band definition treated all neighbors within a certain distance of unit *i* as having same weights, and thus exerts the same influence on measures of spatial autocorrelation as each other. This may not be true as per Tobler's first Law of Geography which states that \n",
    "<blockquote> Everything is related to everything else, but near things are more related than distant things.</blockquote>\n",
    "This conception of spatial autocorrelation can be estimated via a distance-decay neighbor definition. \n",
    "$$w_{ij} = d_{ij}^{-a}$$\n",
    "where <i>d</i><sub><i>ij</i></sub> is the distance between contiguos units and positive value for parameter <i>a</i> give greater weight to the units that are more spatially proximate"
   ]
  },
  {
   "cell_type": "code",
   "execution_count": 31,
   "id": "7b3a5a24-d243-4681-abf5-1f58ab7fea5e",
   "metadata": {
    "slideshow": {
     "slide_type": "subslide"
    },
    "tags": []
   },
   "outputs": [
    {
     "name": "stderr",
     "output_type": "stream",
     "text": [
      "/opt/conda/envs/py39/lib/python3.9/site-packages/scipy/sparse/data.py:117: RuntimeWarning: divide by zero encountered in reciprocal\n",
      "  return self._with_data(data ** n)\n"
     ]
    },
    {
     "data": {
      "image/png": "[encoded data removed]",
      "text/plain": [
       "<Figure size 432x432 with 1 Axes>"
      ]
     },
     "metadata": {
      "needs_background": "light"
     },
     "output_type": "display_data"
    }
   ],
   "source": [
    "w_dist50kmC = weights.DistanceBand.from_dataframe(oh_counties_proj, 100000,binary=False)\n",
    "f, ax = plt.subplots(1, figsize=(6, 6))\n",
    "focus = oh_counties_proj.iloc[oh_counties_proj[oh_counties_proj.FIPS_COUNT=='39035'].index]\n",
    "focus.plot(facecolor='None', alpha=1, linewidth=1, ax=ax)\n",
    "neis = oh_counties_proj.iloc[w_dist50kmC.neighbors[oh_counties_proj[oh_counties_proj.FIPS_COUNT=='39035'].index[0]]]\n",
    "wts=np.asarray(w_dist50kmC.weights[oh_counties_proj[oh_counties_proj.FIPS_COUNT=='39035'].index[0]])\n",
    "wts=wts/np.max(wts)\n",
    "neis.assign(weights=wts).plot(ax=ax, linewidth=1,column='weights', cmap='Reds')\n",
    "f.suptitle(\"100KM Distance Decay Neighbor for Cuyahoga County\")\n",
    "plt.show()"
   ]
  },
  {
   "cell_type": "markdown",
   "id": "50c960f9-c391-4d4d-8529-bf5b5d371bd7",
   "metadata": {
    "slideshow": {
     "slide_type": "subslide"
    },
    "tags": []
   },
   "source": [
    "### Nonspatial Weights\n",
    "\"<b>Space is more than geography</b>\" and shared language, social distance, and small world networks are examples in which the dependence between observations may be <b>unrelated to geographic distance</b>. For eg degree of interdependence between countries may be affected by economic interdependence. \n"
   ]
  },
  {
   "cell_type": "markdown",
   "id": "4894fa6f-34a2-4a43-a1e1-c9fe804766b1",
   "metadata": {
    "slideshow": {
     "slide_type": "skip"
    },
    "tags": []
   },
   "source": [
    "## Standardizing Weight matrices\n",
    "For spatial analysis techniques, a spatial weights matrix with raw values may not be suitable. This implies modifying each weight so they conform to certain rules. "
   ]
  },
  {
   "cell_type": "code",
   "execution_count": 24,
   "id": "95e40a25-bd0d-44ba-9db2-fc184fef8481",
   "metadata": {
    "slideshow": {
     "slide_type": "skip"
    },
    "tags": []
   },
   "outputs": [
    {
     "name": "stdout",
     "output_type": "stream",
     "text": [
      "[1.0, 1.0, 1.0, 1.0, 1.0, 1.0]\n",
      "('WARNING: ', '39171', ' is an island (no neighbors)')\n",
      "[0.16666666666666666, 0.16666666666666666, 0.16666666666666666, 0.16666666666666666, 0.16666666666666666, 0.16666666666666666]\n"
     ]
    }
   ],
   "source": [
    "#queen weight for Cuyahoga county neighbors\n",
    "print (w_queen.weights['39035'])\n",
    "#Apply row standardization for weights\n",
    "w_queen.transform ='R'\n",
    "print (w_queen.weights['39035'])"
   ]
  },
  {
   "cell_type": "code",
   "execution_count": null,
   "id": "8635cf1e-d233-45e9-a10a-bf5953aa0621",
   "metadata": {},
   "outputs": [],
   "source": []
  }
 ],
 "metadata": {
  "kernelspec": {
   "display_name": "Py39",
   "language": "python",
   "name": "py39"
  },
  "language_info": {
   "codemirror_mode": {
    "name": "ipython",
    "version": 3
   },
   "file_extension": ".py",
   "mimetype": "text/x-python",
   "name": "python",
   "nbconvert_exporter": "python",
   "pygments_lexer": "ipython3",
   "version": "3.9.6"
  }
 },
 "nbformat": 4,
 "nbformat_minor": 5
}
