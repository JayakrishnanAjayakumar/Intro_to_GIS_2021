{
 "cells": [
  {
   "cell_type": "markdown",
   "id": "5675e530-990b-4036-8af2-660d7f0f38ea",
   "metadata": {
    "slideshow": {
     "slide_type": "slide"
    },
    "tags": []
   },
   "source": [
    "# Spatial Autocorrelation\n",
    "## First Law of Geography (Highly revered among Geographers!!!!)\n",
    "><em><h4>Everything is related to everything else, but near things are more related than far things (Tobler 1970)</h4></em>\n",
    "\n",
    "Without first law,\n",
    "<ul>\n",
    "<li>\n",
    "    Conditions anywhere on the Earth's surface could in principle be found packed within any small area\n",
    "</li>\n",
    "<li>\n",
    "    No regions of approximately homogeneous conditions to be described by giving attributes to area objects.\n",
    "</li>\n",
    "<li>\n",
    "    Topographic surfaces would vary chaotically.\n",
    "</li>\n",
    "<li>\n",
    "    Spatial analysis, and indeed life itself, would be impossible.\n",
    "</li>\n",
    "</ul>"
   ]
  },
  {
   "cell_type": "markdown",
   "id": "85289e2e-482d-426d-be67-5c798699d4c4",
   "metadata": {
    "slideshow": {
     "slide_type": "subslide"
    },
    "tags": []
   },
   "source": [
    "## What is spatial autocorrelation\n",
    "#### *\"Data from locations near one another in space are more likely to be similar than data from locations remote from one another.\"*<br>\n",
    "Another simple defintion could be:<br>\n",
    "#### *\"Degree to which similar values are located in similar locations\"*<br>\n",
    "More formally, spatial autocorrelation implies a nonzero covariance between the values on a random variable for neighboring locations:\n",
    "$$Cov(y_i,y_j) = E(y_iy_j)-E(y_i)E(y_j)\\neq{0}\\text{ for i} \\neq{j}$$\n",
    "where the *i,j* locations have a spatial interpretation.\n"
   ]
  },
  {
   "cell_type": "markdown",
   "id": "5d529ffe-a1dc-4e1a-9cfa-3a1d8be467a8",
   "metadata": {
    "slideshow": {
     "slide_type": "subslide"
    },
    "tags": []
   },
   "source": [
    "#### *If spatial autocorrelation were not commonplace, geographic analysis would be of little interest, and geographic analysis would be of little interest and geography would be irrelevant.* \n",
    "\n",
    "Many geographical phenomenon can be characterized in these terms\n",
    "\n",
    "<ul><li>Cities are local concentration of populations</li>\n",
    "<li>Storms are local foci of particular atmospheric conditions</li>\n",
    "<li>Climate: Repeated occurences of similar spatial pattern of weather in particular places.</li></ul>\n"
   ]
  },
  {
   "cell_type": "markdown",
   "id": "97c7af89-63f1-4ac0-b055-92b7254add80",
   "metadata": {
    "slideshow": {
     "slide_type": "subslide"
    },
    "tags": []
   },
   "source": [
    "![Package](../images/withoutspatialautocorrelation.png)\n"
   ]
  },
  {
   "cell_type": "markdown",
   "id": "d72bc0ed-eabd-49e4-800d-ec2b9b53181d",
   "metadata": {
    "slideshow": {
     "slide_type": "slide"
    },
    "tags": []
   },
   "source": [
    "### Types of Spatial Autocorrelation\n",
    "There are three general possibilities \n",
    "#### Positive Spatial Autocorrelation\n",
    "Positive autocorrelation is by far the most commonly observed case and refers to situations where nearby observations are likely to be similar to one another. For eg. Neighboring countries have similar economic policies or neighboring voters favor the same candidate. Other examples include income, poverty, vegetation, and Temperature\n",
    "#### Negative Spatial Autocorrelation\n",
    "Negative spatial autocorrelation exists when neighboring units may have dissimilar values on the variable. Eg. Crime moves from one precinct to a neighboring percinct. Eg: supermarkets, police stations, fire stations, and hospitals.\n",
    "\n",
    "#### Zero Spatial Autocorrelation\n",
    "Zero autocorrelation is the case where no spatial effect is discernable, and observations seem to vary randomly through space. "
   ]
  },
  {
   "cell_type": "markdown",
   "id": "19ca03a7-223c-4f51-b1f6-f6111f414ad2",
   "metadata": {
    "slideshow": {
     "slide_type": "subslide"
    },
    "tags": []
   },
   "source": [
    "![Package](../images/pos_neg_no_SA.png)"
   ]
  },
  {
   "cell_type": "markdown",
   "id": "9a50e16c-d618-47f9-b2bd-3188892c2c08",
   "metadata": {
    "slideshow": {
     "slide_type": "slide"
    },
    "tags": []
   },
   "source": [
    "### Impact of Spatial Autocorrelation\n",
    "<ul> <li> Most of the statistical approaches often assume that the <b>measured outcomes are independent of each other.</b> </li>\n",
    "<li>In statistics a collection of random variables is <b>independent and identically distributed (i.i.d)</b> if each random variable has the <b>same probability distribution</b> as the others and are <b>mutually independent</b></li>\n",
    "<li> Spatial data exhibiting <b>spatial autocorrelation violates i.i.d</b></li>\n",
    "<li><b>Detection and quantification</b> of Spatial autocorrelation is important in identifying <b>clusters</b> as well as in <b>predective analysis</b></li>\n",
    "<li> <b>Spatial weighting schemes</b> are required to incorporate the <b>effect of spatial autocorrelation</b> on statistical methods (which we are covering on the next chapter). </li>\n",
    "</ul>"
   ]
  },
  {
   "cell_type": "code",
   "execution_count": null,
   "id": "06229120-0ed9-45a6-a1b3-89d58521d925",
   "metadata": {},
   "outputs": [],
   "source": []
  }
 ],
 "metadata": {
  "kernelspec": {
   "display_name": "Py39",
   "language": "python",
   "name": "py39"
  },
  "language_info": {
   "codemirror_mode": {
    "name": "ipython",
    "version": 3
   },
   "file_extension": ".py",
   "mimetype": "text/x-python",
   "name": "python",
   "nbconvert_exporter": "python",
   "pygments_lexer": "ipython3",
   "version": "3.9.6"
  }
 },
 "nbformat": 4,
 "nbformat_minor": 5
}
