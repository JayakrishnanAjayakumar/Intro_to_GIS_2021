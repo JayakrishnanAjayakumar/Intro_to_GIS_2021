{
 "cells": [
  {
   "cell_type": "markdown",
   "id": "7067b4da",
   "metadata": {
    "slideshow": {
     "slide_type": "slide"
    },
    "tags": []
   },
   "source": [
    "# Table of Contents\n",
    "\n",
    "## Part I: Building Blocks\n",
    "\n",
    "<ul>\n",
    "<li><a href='ChapterI_Introduction.ipynb'><span STYLE=\"font-size:20px\">Introduction</span></a></li>\n",
    "<li><a href='ChapterII_Computational Environments.ipynb'><span STYLE=\"font-size:20px\">Computational Environments</span></a></li>\n",
    "<li><a href='ChapterIII_SpatialData.ipynb'><span STYLE=\"font-size:20px\">Spatial Data</span></a></li>\n",
    "</ul>\n",
    "\n",
    "## Part II: Spatial Analysis I\n",
    "\n",
    "<ul>\n",
    "<li><a href='ChapterIV_GeoVIsualizationAndChoroplethMapping.ipynb'><span STYLE=\"font-size:20px\">Geo-Visualization And Choropleth mapping</span></a></li>\n",
    "<li><a href='ChapterV_SpatialAutoCorrelation.ipynb'><span STYLE=\"font-size:20px\">Spatial Autocorrelation</span></a></li>\n",
    "<li><a href='ChapterVI_SpatialWeights.ipynb'><span STYLE=\"font-size:20px\">Spatial Weights</span></a></li>\n",
    "<li><a href='ChapterVII_DiagnosingSpatialAutocorrelation.ipynb'><span STYLE=\"font-size:20px\">Diagnosing Spatial Autocorrelation</span></a></li>\n",
    "</ul>\n"
   ]
  },
  {
   "cell_type": "code",
   "execution_count": null,
   "id": "f3920975-00aa-4510-96de-867c62dbdc7e",
   "metadata": {
    "slideshow": {
     "slide_type": "slide"
    },
    "tags": []
   },
   "outputs": [],
   "source": []
  }
 ],
 "metadata": {
  "kernelspec": {
   "display_name": "Py39",
   "language": "python",
   "name": "py39"
  },
  "language_info": {
   "codemirror_mode": {
    "name": "ipython",
    "version": 3
   },
   "file_extension": ".py",
   "mimetype": "text/x-python",
   "name": "python",
   "nbconvert_exporter": "python",
   "pygments_lexer": "ipython3",
   "version": "3.9.6"
  }
 },
 "nbformat": 4,
 "nbformat_minor": 5
}
