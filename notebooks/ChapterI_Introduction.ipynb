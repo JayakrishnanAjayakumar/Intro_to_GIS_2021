{
 "cells": [
  {
   "cell_type": "markdown",
   "id": "bf23bb33-f4d1-44cc-9db3-4ade7fe8d0b8",
   "metadata": {
    "slideshow": {
     "slide_type": "slide"
    },
    "tags": []
   },
   "source": [
    "# Introduction\n",
    "## Geo-data revolution\n",
    "The world is being <b>\"Datafied\"</b><br>\n",
    "<b>Datafication </b><i>\"Turning all aspects of life and turning them into data (Eg. Facebook posts, tweets, spotify songs)\"</i>\n",
    "   "
   ]
  },
  {
   "cell_type": "markdown",
   "id": "6b7e4f13-0e29-4eea-9740-a58c87cd0494",
   "metadata": {
    "slideshow": {
     "slide_type": "subslide"
    },
    "tags": []
   },
   "source": [
    " <img src='../images/datafication.jpg'>"
   ]
  },
  {
   "cell_type": "markdown",
   "id": "906fa547-1d33-4981-ac7b-91989a89862c",
   "metadata": {
    "slideshow": {
     "slide_type": "slide"
    },
    "tags": []
   },
   "source": [
    "### Why Now?\n"
   ]
  },
  {
   "cell_type": "markdown",
   "id": "c44bb5e8-d2ee-4563-b344-d15a3a51cb90",
   "metadata": {
    "slideshow": {
     "slide_type": "subslide"
    },
    "tags": []
   },
   "source": [
    "Advances in <b>Computation power, Connectivity, and Geospatial technology</b>\n",
    "     <img src='../images/fuelingGeospatialRevolution.png'>"
   ]
  },
  {
   "cell_type": "markdown",
   "id": "2938e4a9-c2e0-44c5-83c6-5d798dd6417c",
   "metadata": {
    "slideshow": {
     "slide_type": "slide"
    },
    "tags": []
   },
   "source": [
    "## Data Science\n",
    "<b>Methods, tools and techniques</b> to turn data into <b>actionable knowledge</b>. Its a confluence of:\n",
    "<ul><li><b>Statistics</b></li>\n",
    "<li><b>Computational tools (Programming)</b></li>\n",
    "<li><b>Communication Skills </b>(make sense of data. Don't fall to <b>\"black-box approach\")</b></li>\n",
    "<li><b>Domain expertise</b> (Theories about <b>why</b> the data is there.)</li> \n",
    "</ul>\n",
    "\n"
   ]
  },
  {
   "cell_type": "markdown",
   "id": "6144b821-c022-4286-bc90-cca4f88da5f8",
   "metadata": {
    "slideshow": {
     "slide_type": "subslide"
    },
    "tags": []
   },
   "source": [
    "<img src='../images/datascience.png'>"
   ]
  },
  {
   "cell_type": "markdown",
   "id": "55982381-918d-42e3-834a-0884a985adfd",
   "metadata": {
    "slideshow": {
     "slide_type": "slide"
    },
    "tags": []
   },
   "source": [
    "## Geo/Spatial-Data Science\n",
    "<ul><li>A very large portion of all the new data are inherently <b>geographic</b> or can be traced to some location.</li> \n",
    "<li><b>Spatial</b> is <b>Special!!!</b></li>\n",
    "<li>Some of the methods require an explicitly <b>spatial treatment</b></li>\n",
    "</ul>   "
   ]
  },
  {
   "cell_type": "markdown",
   "id": "9bde68bb-c76d-4f10-845b-206037fd8315",
   "metadata": {
    "slideshow": {
     "slide_type": "subslide"
    },
    "tags": []
   },
   "source": [
    " <img src='../images/spatial-data-science.png'>"
   ]
  },
  {
   "cell_type": "code",
   "execution_count": null,
   "id": "2c4e4d21-ee86-414d-9d33-cd6debf35dbb",
   "metadata": {},
   "outputs": [],
   "source": []
  }
 ],
 "metadata": {
  "kernelspec": {
   "display_name": "Py39",
   "language": "python",
   "name": "py39"
  },
  "language_info": {
   "codemirror_mode": {
    "name": "ipython",
    "version": 3
   },
   "file_extension": ".py",
   "mimetype": "text/x-python",
   "name": "python",
   "nbconvert_exporter": "python",
   "pygments_lexer": "ipython3",
   "version": "3.9.6"
  }
 },
 "nbformat": 4,
 "nbformat_minor": 5
}
